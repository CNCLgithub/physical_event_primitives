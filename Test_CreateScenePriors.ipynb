{
 "cells": [
  {
   "cell_type": "markdown",
   "metadata": {},
   "source": [
    "### Use Gen to create priors over the physical event scenes \n",
    "\n",
    "First, choose random parameters for the scene elements. Then, save this out into a .py file that can be called by the generate.sh script \n",
    "\n",
    "First draft -- TSY 04/14/2020"
   ]
  },
  {
   "cell_type": "code",
   "execution_count": 1,
   "metadata": {},
   "outputs": [],
   "source": [
    "# Load the necessary things\n",
    "using Gen\n",
    "using PyPlot"
   ]
  },
  {
   "cell_type": "markdown",
   "metadata": {},
   "source": [
    "First going to try to see if we can generate the parameters that are called in the scenarios 'fallingBall_success' and 'fallingPlank_success'\n",
    "\n",
    "Outline for generative model:\n",
    "1. Randomly choose ball or plank\n",
    "\n",
    "    a. If ball --> \n",
    "            'name': \"ball\",\n",
    "            'type': \"Ball\",\n",
    "            'args': {\n",
    "                'radius': BALL_RADIUS,\n",
    "                'b_mass': BALL_MASS,\n",
    "                'b_restitution': BALL_RESTITUTION\n",
    "\n",
    "    b. If plank ---> '\n",
    "            'name': \"plank\",\n",
    "            'type': \"Box\",\n",
    "            'args': {\n",
    "                'extents': PLANK_LWH #FLAT_SUPPORT_LWH,\n",
    "                'b_mass': PLANK_MASS, #HIGH_PLANK_MASS\n",
    "                'b_restitution': PLANK_RESTITUTION #HIGH_PLANK_RESTITUTION \n",
    "\n",
    "\n",
    "2. What are the properties of the track? How high off of the floor is the track? What is its angle?                  \n",
    "             ' value': [-.1, TOP_TRACK_LWHT[1]/2+.1+0.01, .3, 0, 0, 20],\n",
    "              'range': [\n",
    "                    [-BASE_PLANK_LWH[0]/3, 0],\n",
    "                    None,\n",
    "                    [HIGH_PLANK_LWH[0]/2, HIGH_PLANK_LWH[0]],\n",
    "                    None,\n",
    "                    None,\n",
    "                    [5, 35]\n",
    "                ]\n",
    "\n",
    "3. Randomly choose starting position along the track for the ball or plank.\n",
    "            'parent': \"top_track\",\n",
    "            'xform': {\n",
    "                'value': [-TOP_TRACK_LWHT[0]/2+.01, 0, BALL_RADIUS+.002,\n",
    "                          0, 0, 0]\n",
    "                          \n"
   ]
  },
  {
   "cell_type": "code",
   "execution_count": 48,
   "metadata": {},
   "outputs": [],
   "source": [
    "@gen function generate_scene(x::Int) # how many objects will there be? \n",
    "\n",
    "    ## 1. Choose the object type \n",
    "    # Is it going to be a ball?\n",
    "    if @trace(bernoulli(0.5), :is_ball)\n",
    "        \n",
    "        radius=@trace(uniform(0.005,0.02),:ball_radius)   # 0.008 [m]\n",
    "    \n",
    "    # Or will it be a plank?\n",
    "    else\n",
    "        \n",
    "        length=@trace(uniform(0.01,0.03),:plank_length)\n",
    "        width=@trace(uniform(0.01,0.03),:plank_width)\n",
    "        height=@trace(uniform(0.002,0.01),:plank_height)\n",
    "        \n",
    "        plank_lwh=[length,width,height]                  # (.02, .025, .005) [m]\n",
    "       \n",
    "    end\n",
    "    \n",
    "    mass=@trace(uniform(0.005,0.02),:mass)                 # 0.0056 (ball) or 0.021 (plank)  [kg]\n",
    "    restitution=@trace(uniform(0.2,1), :restitution)   # 0.8 (both ball and plank) [kg]\n",
    "    \n",
    "    ## 2. Choose the track parameters and location\n",
    "    \n",
    "    #TOP_TRACK_LWHT\n",
    "        #length=@trace(uniform(0.01,0.03),:track_length)\n",
    "        #width=@trace(uniform(0.01,0.03),:track_width)\n",
    "        #height=@trace(uniform(0.002,0.01),:track_height)\n",
    "    \n",
    "    #BASE_PLANK_LWH[0]\n",
    "    #HIGH_PLANK_LWH[0]\n",
    "    \n",
    "    #ANGLE\n",
    "    \n",
    "    ## 3. Where will the starting position of the object be? \n",
    "    \n",
    "\n",
    "end;"
   ]
  },
  {
   "cell_type": "code",
   "execution_count": 52,
   "metadata": {},
   "outputs": [
    {
     "name": "stdout",
     "output_type": "stream",
     "text": [
      "│\n",
      "├── :restitution : 0.5221555227630159\n",
      "│\n",
      "├── :plank_length : 0.016331910996834155\n",
      "│\n",
      "├── :plank_width : 0.012770571012738147\n",
      "│\n",
      "├── :plank_height : 0.004174673773739377\n",
      "│\n",
      "├── :mass : 0.01861253364343784\n",
      "│\n",
      "└── :is_ball : false\n",
      "\n"
     ]
    }
   ],
   "source": [
    "trace = Gen.simulate(generate_scene, (0,));\n",
    "\n",
    "println(Gen.get_choices(trace))"
   ]
  }
 ],
 "metadata": {
  "kernelspec": {
   "display_name": "Julia 1.0.3",
   "language": "julia",
   "name": "julia-1.0"
  },
  "language_info": {
   "file_extension": ".jl",
   "mimetype": "application/julia",
   "name": "julia",
   "version": "1.0.3"
  }
 },
 "nbformat": 4,
 "nbformat_minor": 2
}
